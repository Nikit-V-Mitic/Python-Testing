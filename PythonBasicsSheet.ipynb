{
 "cells": [
  {
   "attachments": {},
   "cell_type": "markdown",
   "metadata": {},
   "source": [
    "### Credit, Thanks, and Purpose\n",
    "To Shashank Kalanithi, whose warmth, courage to err and correct, knowledge, and hours of labor have gone into producing dozens of videos and Notion Documents on data science and analytics, from theory to technique -- all taught masterfully -- thank you.\n",
    "\n",
    "I produced this notebook as a repository for my own understanding and plan to add to it as I learn more. I hope it might serve a similarly useful pedagogic purpose to others at the beginning of thier Python journey, and that those with greater expertise might correct any errors or misapprehensions they notice to help create a useful set of references that future us will be happy to have.\n",
    "\n",
    "Much of it is based on Shashank's video \"Python for Data Scientists and Data Analysts\"; I strongly encourage you to support him in any way you can and make use of the explanations, documents, and courses he produces. I have found them to be invaluable resources and trust that anyone wanting to brush up on their knowledge or learn the fundamentals will as well.\n",
    "\n",
    "https://www.youtube.com/watch?v=sZDgJKI8DAM&ab_channel=ShashankKalanithi leads to \"Python for Data Scientists and Analysts\" and\n",
    "https://www.youtube.com/@ShashankData leads to Shashank's channel."
   ]
  },
  {
   "attachments": {},
   "cell_type": "markdown",
   "metadata": {},
   "source": [
    "---------------------------------------------------------------------------------------------------------------------------------------------"
   ]
  },
  {
   "attachments": {},
   "cell_type": "markdown",
   "metadata": {},
   "source": [
    "*This cell type is called \"Markdown\". It is a non-code space best used for informing the reader about your code in a detailed manner.*\n",
    "                *To quickly switch between Markdown and Code cells, press Esc + M OR Y, respectively. You Esc to prevent editing the cell.*\n",
    "\n",
    "# Header Size 1\n",
    "## Header Size 2\n",
    "### Header Size 3\n",
    "\n",
    "Normal Text Size and Appeareance\n",
    "\n",
    "**Bold**\n",
    "\n",
    "*Italics*\n",
    "\n",
    "Bulleted list are done as follows:\n",
    "\n",
    "* Hallo\n",
    "* Hello\n",
    "* Zdravo\n",
    "* Hola\n",
    "\n",
    "Numbered lists are done as follows:\n",
    "\n",
    "1. Jag\n",
    "2. Yes\n",
    "3. Da\n",
    "4. Si"
   ]
  },
  {
   "attachments": {},
   "cell_type": "markdown",
   "metadata": {},
   "source": [
    "### Comments & Other Basics"
   ]
  },
  {
   "cell_type": "code",
   "execution_count": 8,
   "metadata": {},
   "outputs": [
    {
     "data": {
      "text/plain": [
       "{'__name__': 'builtins',\n",
       " '__doc__': \"Built-in functions, exceptions, and other objects.\\n\\nNoteworthy: None is the `nil' object; Ellipsis represents `...' in slices.\",\n",
       " '__package__': '',\n",
       " '__loader__': _frozen_importlib.BuiltinImporter,\n",
       " '__spec__': ModuleSpec(name='builtins', loader=<class '_frozen_importlib.BuiltinImporter'>, origin='built-in'),\n",
       " '__build_class__': <function __build_class__>,\n",
       " '__import__': <function __import__>,\n",
       " 'abs': <function abs(x, /)>,\n",
       " 'all': <function all(iterable, /)>,\n",
       " 'any': <function any(iterable, /)>,\n",
       " 'ascii': <function ascii(obj, /)>,\n",
       " 'bin': <function bin(number, /)>,\n",
       " 'breakpoint': <function breakpoint>,\n",
       " 'callable': <function callable(obj, /)>,\n",
       " 'chr': <function chr(i, /)>,\n",
       " 'compile': <function compile(source, filename, mode, flags=0, dont_inherit=False, optimize=-1, *, _feature_version=-1)>,\n",
       " 'delattr': <function delattr(obj, name, /)>,\n",
       " 'dir': <function dir>,\n",
       " 'divmod': <function divmod(x, y, /)>,\n",
       " 'eval': <function eval(source, globals=None, locals=None, /)>,\n",
       " 'exec': <function exec(source, globals=None, locals=None, /)>,\n",
       " 'format': <function format(value, format_spec='', /)>,\n",
       " 'getattr': <function getattr>,\n",
       " 'globals': <function globals()>,\n",
       " 'hasattr': <function hasattr(obj, name, /)>,\n",
       " 'hash': <function hash(obj, /)>,\n",
       " 'hex': <function hex(number, /)>,\n",
       " 'id': <function id(obj, /)>,\n",
       " 'input': <bound method Kernel.raw_input of <ipykernel.ipkernel.IPythonKernel object at 0x000002A0181F7040>>,\n",
       " 'isinstance': <function isinstance(obj, class_or_tuple, /)>,\n",
       " 'issubclass': <function issubclass(cls, class_or_tuple, /)>,\n",
       " 'iter': <function iter>,\n",
       " 'aiter': <function aiter(async_iterable, /)>,\n",
       " 'len': <function len(obj, /)>,\n",
       " 'locals': <function locals()>,\n",
       " 'max': <function max>,\n",
       " 'min': <function min>,\n",
       " 'next': <function next>,\n",
       " 'anext': <function anext>,\n",
       " 'oct': <function oct(number, /)>,\n",
       " 'ord': <function ord(c, /)>,\n",
       " 'pow': <function pow(base, exp, mod=None)>,\n",
       " 'print': <function print>,\n",
       " 'repr': <function repr(obj, /)>,\n",
       " 'round': <function round(number, ndigits=None)>,\n",
       " 'setattr': <function setattr(obj, name, value, /)>,\n",
       " 'sorted': <function sorted(iterable, /, *, key=None, reverse=False)>,\n",
       " 'sum': <function sum(iterable, /, start=0)>,\n",
       " 'vars': <function vars>,\n",
       " 'None': None,\n",
       " 'Ellipsis': Ellipsis,\n",
       " 'NotImplemented': NotImplemented,\n",
       " 'False': False,\n",
       " 'True': True,\n",
       " 'bool': bool,\n",
       " 'memoryview': memoryview,\n",
       " 'bytearray': bytearray,\n",
       " 'bytes': bytes,\n",
       " 'classmethod': classmethod,\n",
       " 'complex': complex,\n",
       " 'dict': dict,\n",
       " 'enumerate': enumerate,\n",
       " 'filter': filter,\n",
       " 'float': float,\n",
       " 'frozenset': frozenset,\n",
       " 'property': property,\n",
       " 'int': int,\n",
       " 'list': list,\n",
       " 'map': map,\n",
       " 'object': object,\n",
       " 'range': range,\n",
       " 'reversed': reversed,\n",
       " 'set': set,\n",
       " 'slice': slice,\n",
       " 'staticmethod': staticmethod,\n",
       " 'str': str,\n",
       " 'super': super,\n",
       " 'tuple': tuple,\n",
       " 'type': type,\n",
       " 'zip': zip,\n",
       " '__debug__': True,\n",
       " 'BaseException': BaseException,\n",
       " 'Exception': Exception,\n",
       " 'TypeError': TypeError,\n",
       " 'StopAsyncIteration': StopAsyncIteration,\n",
       " 'StopIteration': StopIteration,\n",
       " 'GeneratorExit': GeneratorExit,\n",
       " 'SystemExit': SystemExit,\n",
       " 'KeyboardInterrupt': KeyboardInterrupt,\n",
       " 'ImportError': ImportError,\n",
       " 'ModuleNotFoundError': ModuleNotFoundError,\n",
       " 'OSError': OSError,\n",
       " 'EnvironmentError': OSError,\n",
       " 'IOError': OSError,\n",
       " 'WindowsError': OSError,\n",
       " 'EOFError': EOFError,\n",
       " 'RuntimeError': RuntimeError,\n",
       " 'RecursionError': RecursionError,\n",
       " 'NotImplementedError': NotImplementedError,\n",
       " 'NameError': NameError,\n",
       " 'UnboundLocalError': UnboundLocalError,\n",
       " 'AttributeError': AttributeError,\n",
       " 'SyntaxError': SyntaxError,\n",
       " 'IndentationError': IndentationError,\n",
       " 'TabError': TabError,\n",
       " 'LookupError': LookupError,\n",
       " 'IndexError': IndexError,\n",
       " 'KeyError': KeyError,\n",
       " 'ValueError': ValueError,\n",
       " 'UnicodeError': UnicodeError,\n",
       " 'UnicodeEncodeError': UnicodeEncodeError,\n",
       " 'UnicodeDecodeError': UnicodeDecodeError,\n",
       " 'UnicodeTranslateError': UnicodeTranslateError,\n",
       " 'AssertionError': AssertionError,\n",
       " 'ArithmeticError': ArithmeticError,\n",
       " 'FloatingPointError': FloatingPointError,\n",
       " 'OverflowError': OverflowError,\n",
       " 'ZeroDivisionError': ZeroDivisionError,\n",
       " 'SystemError': SystemError,\n",
       " 'ReferenceError': ReferenceError,\n",
       " 'MemoryError': MemoryError,\n",
       " 'BufferError': BufferError,\n",
       " 'Warning': Warning,\n",
       " 'UserWarning': UserWarning,\n",
       " 'EncodingWarning': EncodingWarning,\n",
       " 'DeprecationWarning': DeprecationWarning,\n",
       " 'PendingDeprecationWarning': PendingDeprecationWarning,\n",
       " 'SyntaxWarning': SyntaxWarning,\n",
       " 'RuntimeWarning': RuntimeWarning,\n",
       " 'FutureWarning': FutureWarning,\n",
       " 'ImportWarning': ImportWarning,\n",
       " 'UnicodeWarning': UnicodeWarning,\n",
       " 'BytesWarning': BytesWarning,\n",
       " 'ResourceWarning': ResourceWarning,\n",
       " 'ConnectionError': ConnectionError,\n",
       " 'BlockingIOError': BlockingIOError,\n",
       " 'BrokenPipeError': BrokenPipeError,\n",
       " 'ChildProcessError': ChildProcessError,\n",
       " 'ConnectionAbortedError': ConnectionAbortedError,\n",
       " 'ConnectionRefusedError': ConnectionRefusedError,\n",
       " 'ConnectionResetError': ConnectionResetError,\n",
       " 'FileExistsError': FileExistsError,\n",
       " 'FileNotFoundError': FileNotFoundError,\n",
       " 'IsADirectoryError': IsADirectoryError,\n",
       " 'NotADirectoryError': NotADirectoryError,\n",
       " 'InterruptedError': InterruptedError,\n",
       " 'PermissionError': PermissionError,\n",
       " 'ProcessLookupError': ProcessLookupError,\n",
       " 'TimeoutError': TimeoutError,\n",
       " 'open': <function io.open(file, mode='r', buffering=-1, encoding=None, errors=None, newline=None, closefd=True, opener=None)>,\n",
       " 'copyright': Copyright (c) 2001-2022 Python Software Foundation.\n",
       " All Rights Reserved.\n",
       " \n",
       " Copyright (c) 2000 BeOpen.com.\n",
       " All Rights Reserved.\n",
       " \n",
       " Copyright (c) 1995-2001 Corporation for National Research Initiatives.\n",
       " All Rights Reserved.\n",
       " \n",
       " Copyright (c) 1991-1995 Stichting Mathematisch Centrum, Amsterdam.\n",
       " All Rights Reserved.,\n",
       " 'credits':     Thanks to CWI, CNRI, BeOpen.com, Zope Corporation and a cast of thousands\n",
       "     for supporting Python development.  See www.python.org for more information.,\n",
       " 'license': See https://www.python.org/psf/license/,\n",
       " 'help': Type help() for interactive help, or help(object) for help about object.,\n",
       " 'execfile': <function _pydev_bundle._pydev_execfile.execfile(file, glob=None, loc=None)>,\n",
       " 'runfile': <function _pydev_bundle.pydev_umd.runfile(filename, args=None, wdir=None, namespace=None)>,\n",
       " '__IPYTHON__': True,\n",
       " 'display': <function IPython.core.display_functions.display(*objs, include=None, exclude=None, metadata=None, transient=None, display_id=None, raw=False, clear=False, **kwargs)>,\n",
       " 'get_ipython': <bound method InteractiveShell.get_ipython of <ipykernel.zmqshell.ZMQInteractiveShell object at 0x000002A0181F6A10>>}"
      ]
     },
     "execution_count": 8,
     "metadata": {},
     "output_type": "execute_result"
    }
   ],
   "source": [
    "# This is a comment, begun by a hash. To turn a swath of characters into a comment -> click + drag to select, press Ctrl + / (forwardslash).\n",
    "\n",
    "# In Python, you don't have to declare a variable before assigning it a value, as seen below, the variable is simultaneously declared and assigned a value.\n",
    "\n",
    "x = 5\n",
    "\n",
    "# The = sign is used to declare & assign variables, wheras the == is used in the mathemathical sense.\n",
    "\n",
    "# Variables must be named, as above (x). There are certain words that can't be used as names, primarily Built-In Objects. \n",
    "# Built-In Objects or Builtins are words reserved for certain functions ingrained in Python. \n",
    "#     To see a list of them, run:\n",
    "__builtins__.__dict__"
   ]
  },
  {
   "cell_type": "code",
   "execution_count": 9,
   "metadata": {},
   "outputs": [
    {
     "name": "stdout",
     "output_type": "stream",
     "text": [
      "5\n"
     ]
    }
   ],
   "source": [
    "x \n",
    "\n",
    "# This will only output the value of x in Jupyter Notebook (.ipynb files). When working in base Python (.py files) you must print(). \n",
    "# Latter is better because it is universally used in Python AND allows multiple functions to be returned, whilst not using print() only returns the last function...\n",
    "# ...as seen here, only ONE value for x is returned, despite there being 2 calls for it. If both were print(), two values for x would have been returned.\n",
    "\n",
    "print(x)\n",
    "\n",
    "# NOTE: If the code cell where you define a variable is separate from the code cell where it is printed or used, the former cell MUST be run first.\n",
    "# NOTE: \"NOTE\" written in capitals is highlighted, even in comments!"
   ]
  },
  {
   "attachments": {},
   "cell_type": "markdown",
   "metadata": {},
   "source": [
    "## **Data Types/Classes in Python**"
   ]
  },
  {
   "attachments": {},
   "cell_type": "markdown",
   "metadata": {},
   "source": [
    "### Integer"
   ]
  },
  {
   "cell_type": "code",
   "execution_count": 10,
   "metadata": {},
   "outputs": [
    {
     "name": "stdout",
     "output_type": "stream",
     "text": [
      "5\n",
      "<class 'int'>\n"
     ]
    }
   ],
   "source": [
    "# Integer Class objects are whole numbers, often restricted to being between two massive values, negative(...)positive:\n",
    "# For example, between -100_000_000_000 and 100_000_000_000.\n",
    "\n",
    "print(x)\n",
    "print(type(x)) # The \"type()\" function identifies the class/type of the enwrapped object."
   ]
  },
  {
   "cell_type": "markdown",
   "metadata": {},
   "source": [
    "### Float"
   ]
  },
  {
   "cell_type": "code",
   "execution_count": 11,
   "metadata": {},
   "outputs": [
    {
     "name": "stdout",
     "output_type": "stream",
     "text": [
      "5.123\n",
      "<class 'float'>\n"
     ]
    }
   ],
   "source": [
    "# Float Class objects are real decimals/fractions. Stands for \"floating point number\", eg. the decimal point.\n",
    "y = 5.123\n",
    "print(y)\n",
    "print(type(y))"
   ]
  },
  {
   "cell_type": "markdown",
   "metadata": {},
   "source": [
    "### String"
   ]
  },
  {
   "cell_type": "code",
   "execution_count": 12,
   "metadata": {},
   "outputs": [
    {
     "name": "stdout",
     "output_type": "stream",
     "text": [
      "\"Hello, there, Johann.\" - Ludwig\n",
      "First Line \n",
      "Second Line \n",
      "Third Line\n",
      "\"Hello, there!\" - Johann\n",
      "\\HI\\\n",
      "<class 'str'>\n"
     ]
    }
   ],
   "source": [
    "# Any alphanumerical characters enclosed in quotation marks (\"\"), single quotes (''), or triple quotes (\"\"\"\"\"\"). To be able to print quotes, \n",
    "# ...do the following:\n",
    "quote = '\"Hello, there, Johann.\" - Ludwig'\n",
    "print(quote)\n",
    "\n",
    "# Backslashes are special or \"escape\" characters with special text functions. \\t = tab, \\n = new line, and \\r = carriage return. \n",
    "\n",
    "hi = \"First Line \\nSecond Line \\nThird Line\"\n",
    "print(hi)\n",
    "\n",
    "# Backslashes remove the function of special characters to their right. As such, they can also be used to print quotes within quotes without...\n",
    "# ...conflict.\n",
    "\n",
    "backslash1 = '\\\"Hello, there!\\\" - Johann'\n",
    "print(backslash1)\n",
    "\n",
    "# If you want to print backslashes, double them, as follows:\n",
    "\n",
    "backslash2 = '\\\\HI\\\\'\n",
    "print(backslash2)\n",
    "\n",
    "print(type(backslash2))\n",
    "\n",
    "# NOTE:\n",
    "# The int() function will round down any enwrapped number and turn it into an integer.\n",
    "# The str() function will turn any contents into a string.\n",
    "# The float() function will turn any enwrapped number into a float."
   ]
  },
  {
   "attachments": {},
   "cell_type": "markdown",
   "metadata": {},
   "source": [
    "### Slicing / Indexing"
   ]
  },
  {
   "cell_type": "code",
   "execution_count": 13,
   "metadata": {},
   "outputs": [
    {
     "data": {
      "text/plain": [
       "'ings f'"
      ]
     },
     "execution_count": 13,
     "metadata": {},
     "output_type": "execute_result"
    }
   ],
   "source": [
    "# Objects in Python are indexed, beginning with 0. Ex. ex_string = \"Greetings fellow human.\" The lettter G of \"Greetings\" would have an index of 0, r of 1, etc.\n",
    "\n",
    "ex_string = \"Greetings fellow human.\"\n",
    "ex_string[5:11]\n",
    "\n",
    "# To slice a string, use the []. You can specify an index range ([2:5]], or leave one part blank, which will return all indexed elements before or after...\n",
    "# ... the specified index number. Ex. [:5] returns all indexed elements before index 5 (but not 5 itself, as seen in Greet, where t has an index of 4).\n",
    "\n",
    "# When specifying [5:], the element indexed at 5 WILL be included.\n",
    "        \n",
    "        # As demonstrated, the character with the index 5 (i) is output but the character with the index 11 (f) is not.\n",
    "\n",
    "# [x] will print out a single indexed element.\n",
    "\n",
    "# Blank spaces are indexed too."
   ]
  },
  {
   "cell_type": "markdown",
   "metadata": {},
   "source": [
    "### Boolean"
   ]
  },
  {
   "cell_type": "code",
   "execution_count": 14,
   "metadata": {},
   "outputs": [
    {
     "name": "stdout",
     "output_type": "stream",
     "text": [
      "<class 'bool'>\n"
     ]
    }
   ],
   "source": [
    "# Boolean Class objects correspond to True/False (MUST BE the word True or False, as shown here) OR 1/0 (without quotations -- they're not strings). \n",
    "\n",
    "beans = True\n",
    "Peas = False\n",
    "\n",
    "5 == 10 # == will output a Boolean result (False)\n",
    "2 == 2 # True\n",
    "\n",
    "print(type(2==2))"
   ]
  },
  {
   "attachments": {},
   "cell_type": "markdown",
   "metadata": {},
   "source": [
    "## **Non-Primitive Data Structures**"
   ]
  },
  {
   "attachments": {},
   "cell_type": "markdown",
   "metadata": {},
   "source": [
    "### Lists (Referred to as Arrays sometimes)"
   ]
  },
  {
   "cell_type": "code",
   "execution_count": 15,
   "metadata": {},
   "outputs": [
    {
     "name": "stdout",
     "output_type": "stream",
     "text": [
      "6\n",
      "[1, 2, 3, 4, 5]\n",
      "[6, 7, 8, 9, 10]\n",
      "6\n",
      "[1, 3, 5, 7, 9]\n"
     ]
    }
   ],
   "source": [
    "#    A list is formed by brackets and commas separating each object -> [x,y,z] and being assigned to a variable -> 3D Variables = [x,y,z]\n",
    "#    Essentially any Data Type/Class can be included in lists -> [1, 1.23, \"Tree\", etc]\n",
    "\n",
    "ex_list = [1, 2, 3, 4, 5, 6, 7, 8, 9, 10]\n",
    "\n",
    "print(ex_list[5])  # Since the index of the list begins with 0, this will output 6, as 6 is indexed by 5.\n",
    "\n",
    "print(ex_list[:5]) # This will output all objects BEFORE index 5, but not index 5 itself. (1, 2, 3, 4, 5)\n",
    "\n",
    "print(ex_list[5:]) # This will output all objects AFTER & INCLUDING index 5. (6, 7, 8, 9, 10)\n",
    "\n",
    "print(ex_list[-5]) # This will count back-to-front. IMPORTANTLY this doesn't work like front-to-back index counting, rather: last value is -1, second-to-last is -2, etc.\n",
    "            # Hence, ex_list[-5] prints 6.\n",
    "\n",
    "# The colons inside the brackets of lists have interesting functionality:\n",
    "    # [:] Will output the whole list, since it's denoting that the output should be whatever is from the lowest to highest index values.\n",
    "    # [::] A second colon, as added here, can be used to indicate by constant by which you count, for example:\n",
    "print(ex_list[::2]) # will return [1, 3, 5, 7, 9], since the count begins at 1 and goes up by 2 each time."
   ]
  },
  {
   "cell_type": "code",
   "execution_count": 16,
   "metadata": {},
   "outputs": [
    {
     "data": {
      "text/plain": [
       "[10, 9, 8, 7, 6, 5, 4, 3, 2, 1]"
      ]
     },
     "execution_count": 16,
     "metadata": {},
     "output_type": "execute_result"
    }
   ],
   "source": [
    " # [::-1] Will reverse the list, as it asks that it be returned counting back from -1 (the last ), as follows:\n",
    "\n",
    "ex_list[::-1]"
   ]
  },
  {
   "attachments": {},
   "cell_type": "markdown",
   "metadata": {},
   "source": [
    "### Tuples (Pronounced Tuh-pls like Apples)"
   ]
  },
  {
   "cell_type": "code",
   "execution_count": 17,
   "metadata": {},
   "outputs": [
    {
     "name": "stdout",
     "output_type": "stream",
     "text": [
      "(1, 2, 3, 4, 5)\n",
      "(5, 4, 3, 2, 1)\n"
     ]
    }
   ],
   "source": [
    "# The same as Lists, but not modifiable and more memory-efficient. Use if you know a list won't need modification.\n",
    "    # They use () parentheses instead of [] brackets.\n",
    "ex_tuple = (1, 2, 3, 4, 5)\n",
    "print(ex_tuple)\n",
    "\n",
    "# They can still be sliced/indexed.\n",
    "print(ex_tuple[::-1])"
   ]
  },
  {
   "attachments": {},
   "cell_type": "markdown",
   "metadata": {},
   "source": [
    "### Dictionaries"
   ]
  },
  {
   "cell_type": "code",
   "execution_count": 18,
   "metadata": {},
   "outputs": [
    {
     "name": "stdout",
     "output_type": "stream",
     "text": [
      "Action\n",
      "('1', '2', '3')\n",
      "And I say hello\n"
     ]
    }
   ],
   "source": [
    "# Dictionaries are key-value pairs and are especially useful when working with tables. \n",
    "# Objects are declared as dictionaries using curly brackets {}.\n",
    "\n",
    "# Key-value pairs might be thought of as command-action pairs, where a command is given, an action is returned, or a call and an answer. \n",
    "# Keys and values are enwrapped in quotes and separated by colons. Ex.\n",
    "\n",
    "ex_dictionary = {\"Command\":\"Action\"}\n",
    "print(ex_dictionary[\"Command\"]) # Will return \"Action\".\n",
    "\n",
    "ex_dictionary2 = {\"You say goodbye\":\"And I say hello\", \"Ennumerate\":(\"1\",\"2\",\"3\")}\n",
    "print(ex_dictionary2[\"Ennumerate\"]) # Will return \"('1','2','3')\"\n",
    "\n",
    "# As demonstrated, a dictionary can be sliced as shown before, however, instead of index numbers, keys are used to call values.\n",
    "# \".get\" can be added to the end of a named dictionary to do the same thing, but it uses parentheses instead. Seems useless to me.\n",
    "\n",
    "print(ex_dictionary2.get(\"You say goodbye\"))"
   ]
  },
  {
   "attachments": {},
   "cell_type": "markdown",
   "metadata": {},
   "source": [
    "### Sets"
   ]
  },
  {
   "cell_type": "code",
   "execution_count": 19,
   "metadata": {},
   "outputs": [
    {
     "name": "stdout",
     "output_type": "stream",
     "text": [
      "{'Shi', 'Huangdi', 'Emperor', 'Qin'}\n"
     ]
    }
   ],
   "source": [
    "# Sets are declared with brackets, like dictionaries, but have no key-value pairs. They are unordered and non-modifiable...\n",
    "# ...and can store NO DUPLICATES. \n",
    "\n",
    "ex_set = {\"Emperor\",\"Qin\",\"Shi\",\"Huangdi\"}\n",
    "print(ex_set)\n",
    "\n",
    "# As demonstrated, the output is unordered. As such, Sets are NOT slicable/indexable."
   ]
  },
  {
   "attachments": {},
   "cell_type": "markdown",
   "metadata": {},
   "source": [
    "### Arithmetic Operators"
   ]
  },
  {
   "cell_type": "code",
   "execution_count": 20,
   "metadata": {},
   "outputs": [
    {
     "name": "stdout",
     "output_type": "stream",
     "text": [
      "6\n",
      "[1, 2, 3, 4, 5, 6, 7, 8]\n",
      "\"Send not to know for whom the bell tolls, it tolls for thee.\"- John Donne\n"
     ]
    }
   ],
   "source": [
    "# NOTE: Arithmetic operators are the signs themselves (+, -, *, etc) not the names of the varaibles (add, sub, mult, etc).\n",
    "\n",
    "# Addition is both numeric and general, as demonstrated below:\n",
    "\n",
    "add_num = 1 + 5\n",
    "print(add_num)\n",
    "\n",
    "add_list = [1, 2, 3, 4] + [5, 6, 7, 8]\n",
    "print(add_list)\n",
    "\n",
    "add_string = '\"Send not to know for whom the bell tolls' + ', it tolls for thee.\"' + '- John Donne' # Concatenates strings, which observe quote rules from above.\n",
    "print(add_string)"
   ]
  },
  {
   "cell_type": "code",
   "execution_count": 21,
   "metadata": {},
   "outputs": [
    {
     "name": "stdout",
     "output_type": "stream",
     "text": [
      "4\n"
     ]
    }
   ],
   "source": [
    "# Subtraction is only numeric:\n",
    "\n",
    "sub_num = 5 - 1\n",
    "print(sub_num)"
   ]
  },
  {
   "cell_type": "code",
   "execution_count": 22,
   "metadata": {},
   "outputs": [
    {
     "name": "stdout",
     "output_type": "stream",
     "text": [
      "25\n",
      "\"Scraped flat by the roller of wars wars wars\" - S.P.\n",
      "[1, 2, 3, 4, 5, 1, 2, 3, 4, 5, 1, 2, 3, 4, 5]\n"
     ]
    }
   ],
   "source": [
    "# Multiplication, like addition, is numeric and general:\n",
    "\n",
    "mult_num = 5 * 5\n",
    "print(mult_num)\n",
    "\n",
    "mult_string = '\"Scraped flat by the roller of' + ' wars' * 3 + '\" - S.P.' # Arithmetic operators, even in strings, can be combined, as shown here.\n",
    "print(mult_string)\n",
    "\n",
    "mult_list = [1, 2, 3, 4, 5] * 3 # Naturally, multiplying a list attaches the same list to itself x # of times, in this case 3.\n",
    "print(mult_list)"
   ]
  },
  {
   "cell_type": "code",
   "execution_count": 23,
   "metadata": {},
   "outputs": [
    {
     "name": "stdout",
     "output_type": "stream",
     "text": [
      "1.0\n",
      "<class 'float'>\n"
     ]
    }
   ],
   "source": [
    "# Division, like subtraction, is only numeric:\n",
    "\n",
    "div_num = 5/5 \n",
    "print(div_num)\n",
    "\n",
    "# Notice, it outputs Float type numbers.\n",
    "print(type(div_num))"
   ]
  },
  {
   "cell_type": "code",
   "execution_count": 24,
   "metadata": {},
   "outputs": [
    {
     "name": "stdout",
     "output_type": "stream",
     "text": [
      "2\n"
     ]
    }
   ],
   "source": [
    "# Modulo returns the remainder of a division operation. Its operator is the % percent sign; syntax is the same as for division: dividend/divisor, dividend%divisor\n",
    "\n",
    "ex_modulo = 50%3\n",
    "print(ex_modulo) # The output is 2, which means 3 fits into 50 some unknown number of times and the remainder is 2."
   ]
  },
  {
   "cell_type": "code",
   "execution_count": 25,
   "metadata": {},
   "outputs": [
    {
     "name": "stdout",
     "output_type": "stream",
     "text": [
      "16\n"
     ]
    }
   ],
   "source": [
    "# Floor Division returns an integer as the quotient of a division operation. Its operator is // (two forwardslashes). Syntax: dividend//divisor\n",
    "\n",
    "ex_floor_div = 50//3\n",
    "print(ex_floor_div)"
   ]
  },
  {
   "attachments": {},
   "cell_type": "markdown",
   "metadata": {},
   "source": [
    "### Assignment Operators"
   ]
  },
  {
   "cell_type": "code",
   "execution_count": 26,
   "metadata": {},
   "outputs": [],
   "source": [
    "# Assignment Operators are used to quickly change the values of variables. Not too useful, primarily for shortening code.\n",
    "# Operator    Example     Same As\n",
    "# =\t            x = 5\t    x = 5\t\n",
    "# +=\t        x += 3\t    x = x + 3\t\n",
    "# -=\t        x -= 3\t    x = x - 3\t\n",
    "# *=\t        x *= 3\t    x = x * 3\t\n",
    "# /=\t        x /= 3\t    x = x / 3\t\n",
    "# %=\t        x %= 3\t    x = x % 3\t\n",
    "# //=\t        x //= 3\t    x = x // 3\t\n",
    "# **=\t        x **= 3\t    x = x ** 3\t\n",
    "# &=\t        x &= 3\t    x = x & 3\t\n",
    "# |=\t        x |= 3\t    x = x | 3\t\n",
    "# ^=\t        x ^= 3\t    x = x ^ 3\t\n",
    "# >>=\t        x >>= 3\t    x = x >> 3\t\n",
    "# <<=\t        x <<= 3\t    x = x << 3"
   ]
  },
  {
   "attachments": {},
   "cell_type": "markdown",
   "metadata": {},
   "source": [
    "### Comparison Operators"
   ]
  },
  {
   "cell_type": "code",
   "execution_count": 27,
   "metadata": {},
   "outputs": [
    {
     "name": "stdout",
     "output_type": "stream",
     "text": [
      "True\n",
      "True\n",
      "False\n",
      "True\n",
      "True\n",
      "True\n"
     ]
    }
   ],
   "source": [
    "# Comparison operators do as is noted below and return a boolean value based on the validity of the comparison.\n",
    "\n",
    "print(3 == 3) # Equals\n",
    "\n",
    "print(3 != 4) # Does not equal\n",
    "\n",
    "print(3 > 4)  # Greater than\n",
    "\n",
    "print(3 < 5)  # Less than\n",
    "\n",
    "print(2 >= 2) # Greater than or equal to\n",
    "\n",
    "print(4 <= 4) # Less than or equal to"
   ]
  },
  {
   "attachments": {},
   "cell_type": "markdown",
   "metadata": {},
   "source": [
    "### Bitwise Operators"
   ]
  },
  {
   "cell_type": "code",
   "execution_count": 28,
   "metadata": {},
   "outputs": [],
   "source": [
    "# Bitwise operators deal with binary numbers as comparison operators. Not extremely useful, but important to know.\n",
    "\n",
    "# Operator\t      Name\t                Description\n",
    "#   & \t           AND\t            Sets each bit to 1 if both bits are 1\n",
    "#   |\t           OR\t            Sets each bit to 1 if one of two bits is 1\n",
    "# \t^              XOR\t            Sets each bit to 1 if only one of two bits is 1\n",
    "#   ~              NOT\t            Inverts all the bits\n",
    "#   <<       Zero fill left shift\tShift left by pushing zeros in from the right and let the leftmost bits fall off\n",
    "#   >>       Signed right shift\t    Shift right by pushing copies of the leftmost bit in from the left, and let the rightmost bits fall off"
   ]
  },
  {
   "attachments": {},
   "cell_type": "markdown",
   "metadata": {},
   "source": [
    "### Logical Operators"
   ]
  },
  {
   "cell_type": "code",
   "execution_count": 29,
   "metadata": {},
   "outputs": [
    {
     "name": "stdout",
     "output_type": "stream",
     "text": [
      "True\n",
      "True\n",
      "False\n"
     ]
    }
   ],
   "source": [
    "# Logical operators are used to combine conditions / comparison operators into more complex True/False validations:\n",
    "\n",
    "# AND combines conditions, returns True if all are valid.\n",
    "\n",
    "and_test = (3 >= 3) and (4 < 200)\n",
    "print(and_test)\n",
    "\n",
    "# OR combines two conditions, returns True if one is valid.\n",
    "\n",
    "or_test = (3 >= 3) or (1 == 5)\n",
    "print(or_test)\n",
    "\n",
    "# NOT reverses the above logical output, such that instead of returning True, they return False when logical conditions are met.\n",
    "\n",
    "not_test = not(5 == 5) and (6 > 3) # Since the AND logic IS met, it would return True, but NOT converts it to False\n",
    "print(not_test)"
   ]
  },
  {
   "attachments": {},
   "cell_type": "markdown",
   "metadata": {},
   "source": [
    "### Membership Operator"
   ]
  },
  {
   "cell_type": "code",
   "execution_count": 30,
   "metadata": {},
   "outputs": [
    {
     "name": "stdout",
     "output_type": "stream",
     "text": [
      "False\n"
     ]
    }
   ],
   "source": [
    "# Membership operators evaluate whether some object contains another object, whatever either may be, and returns a boolean result.\n",
    "# NOTE: The NOT operator can be applied in membership operations as well.\n",
    "\n",
    "in_test = \"Fossil\" in \"Sally sells seashells on the sea shore, but the seashells that she sells are not seashells for sure.\" # Sally's name \n",
    "# is Mary Anning.\n",
    "print(in_test)           "
   ]
  },
  {
   "attachments": {},
   "cell_type": "markdown",
   "metadata": {},
   "source": [
    "## **Functions**"
   ]
  },
  {
   "cell_type": "code",
   "execution_count": 31,
   "metadata": {},
   "outputs": [
    {
     "name": "stdout",
     "output_type": "stream",
     "text": [
      "True\n",
      "False\n",
      "50\n"
     ]
    }
   ],
   "source": [
    "# Functions, as in maths, will take an input, run it through some arguments, and return an output. They are useful for when the same code must be repeated several times...\n",
    "# ... across different inputs.\n",
    "\n",
    "# They work  like key-value pairs, where when the key is called, the value is returned = when the function is called and given an input, an output is returned.\n",
    "# They are declared with \"def\" for define.\n",
    "\n",
    "def function_test(a, b, c):\n",
    "    return a*a + b*b == c*c\n",
    "\n",
    "# NOTE: A function consists of def -> name -> (arguments): -> Press Tab (This tells Python that what follows falls under the function) ->\n",
    "# OPTIONAL define arguments (e.g. a = 3) -> return a function using the arguments -> RUN the code to tell Python the function exists\n",
    "\n",
    "print(function_test(3, 4, 5))\n",
    "\n",
    "# In the above case, the function tests if the arguments 3, 4, 5 result in a valid solution of the Pythagorean function (a^2 + b^2 = c^2). It does, so the return is true.\n",
    "\n",
    "def function_test2(a, b, c):\n",
    "    a = 4\n",
    "    return a*a + b*b == c*c\n",
    "\n",
    "print(function_test2(3, 4, 5))\n",
    "\n",
    "# In this case, we predefined the argument a = 4, and as such, no matter what is written in the input, a will = 4, hence returning a false.\n",
    "\n",
    "#NOTE: Python intelligently interprets the order of the arguments in the function and in the inputs for the call and matches them.\n",
    "    # However, it is good practice to define the arguments manually, at least in more complex functions. As below:\n",
    "\n",
    "def function_test3(a, b, c):\n",
    "    return a*a + b*b + c*c\n",
    "\n",
    "print(function_test3(a=3,b=4,c=5))"
   ]
  },
  {
   "attachments": {},
   "cell_type": "markdown",
   "metadata": {},
   "source": [
    "## **Libraries**"
   ]
  },
  {
   "cell_type": "code",
   "execution_count": 32,
   "metadata": {},
   "outputs": [],
   "source": [
    "# Libraries are bundels of pre-written code meant to perfrom a specific and useful task, that might otherwise be very difficult to perform...\n",
    "# ... These tasks range from visualization to complex analysis. They are the key to data analysis using Python.\n",
    "\n",
    "import numpy as np\n",
    "\n",
    "# It is good practice to alias libraries using AS, so that they can later be referred to by the shortened alias -> np in this case.\n",
    "# NOTE: Conventions about aliasing popular libraries exist and should be researched and followed to allow for easy reading of code."
   ]
  },
  {
   "attachments": {},
   "cell_type": "markdown",
   "metadata": {},
   "source": [
    "### Methods"
   ]
  },
  {
   "cell_type": "code",
   "execution_count": 33,
   "metadata": {},
   "outputs": [
    {
     "name": "stdout",
     "output_type": "stream",
     "text": [
      "[1, 1.5, 2, 2.5, 3, 3.5]\n"
     ]
    }
   ],
   "source": [
    "# Methods are the abovementioned bundles of pre-written code performing the role of complex functions. They are called by being attached to an object, ex:\n",
    "\n",
    "# In the example below, .append is a method from numpy.\n",
    "\n",
    "hypothetical_list = [1,1.5,2,2.5,3]\n",
    "hypothetical_list.append(3.5)\n",
    "print(hypothetical_list)\n",
    "# Here, the append method is called via the period (.) attached to the hypothetical_list, which  appends 3.5 to the end of the list. When the list is called, the update\n",
    "# ... is apparent."
   ]
  },
  {
   "attachments": {},
   "cell_type": "markdown",
   "metadata": {},
   "source": [
    "## **Control Statements**"
   ]
  },
  {
   "attachments": {},
   "cell_type": "markdown",
   "metadata": {},
   "source": [
    "### For Loops"
   ]
  },
  {
   "cell_type": "code",
   "execution_count": 34,
   "metadata": {},
   "outputs": [
    {
     "name": "stdout",
     "output_type": "stream",
     "text": [
      "input 1\n",
      "output 0.5\n",
      "-----------\n",
      "input 2\n",
      "output 1.0\n",
      "-----------\n",
      "input 3\n",
      "output 1.5\n",
      "-----------\n",
      "input 4\n",
      "output 2.0\n",
      "-----------\n",
      "input 5\n",
      "output 2.5\n",
      "-----------\n",
      "input 6\n",
      "output 3.0\n",
      "-----------\n",
      "input 7\n",
      "output 3.5\n",
      "-----------\n",
      "input 8\n",
      "output 4.0\n",
      "-----------\n",
      "input 9\n",
      "output 4.5\n",
      "-----------\n",
      "input 10\n",
      "output 5.0\n",
      "-----------\n",
      "For loop completed\n"
     ]
    }
   ],
   "source": [
    "# For loops require an iterable, i.e., any object composed of several members/elements, which can return those elements one at a time -- be iterated over, by, e.g...\n",
    "# ... a for loop! Common iterables include lists and directories.\n",
    "\n",
    "# For loops themselves are, in essence, functions that are iterated consecutively over the above described iterable. They look like this:\n",
    "\n",
    "iterable_list = range(1,11) # range creates a sequence of integers starting at 1 and ending before 11. Like lists, the first number is included and the second excluded.\n",
    "\n",
    "for i in iterable_list:\n",
    "    print(\"input\",i) # <-- a print() can be placed here to print the iterable before the function is executed.\n",
    "    i = i/2\n",
    "    print(\"output\",i)\n",
    "    print(\"-----------\") # <-- another print() placed here will be part of the loop, executed after the function\n",
    "print(\"For loop completed\") # <-- since this print() is not indented, it isn't part of the loop and will print only after the for loop is executed.\n",
    "\n",
    "# To explain: For i (meaning every member/element, starting with the first one) of iterable_list (object), perform the operation i/2 and show the output.\n",
    "# As shown below, each member/element is divided by 2 and the output is shown in place of the member/element in iterable_list: 1/2 = 0.5, etc. \n",
    "# NOTE: Like in functions, all code belonging to a For loop must be indented below it, as above.\n",
    "\n"
   ]
  },
  {
   "attachments": {},
   "cell_type": "markdown",
   "metadata": {},
   "source": [
    "### While Loops"
   ]
  },
  {
   "cell_type": "code",
   "execution_count": 35,
   "metadata": {},
   "outputs": [
    {
     "name": "stdout",
     "output_type": "stream",
     "text": [
      "Input 5\n",
      "Output 5.5\n",
      "---------\n",
      "Input 5.5\n",
      "Output 6.0\n",
      "---------\n",
      "Input 6.0\n",
      "Output 6.5\n",
      "---------\n",
      "Input 6.5\n",
      "Output 7.0\n",
      "---------\n",
      "Input 7.0\n",
      "Output 7.5\n",
      "---------\n",
      "Input 7.5\n",
      "Output 8.0\n",
      "---------\n",
      "While loop completed\n"
     ]
    }
   ],
   "source": [
    "# While loops are similar to what they do to For loops, however, they will only repeat themselves while some condition is true. Very sensibly named.\n",
    "# While loops have a tendency to create infinite loops, usualyl due to tipos. \n",
    "# NOTE: If running, the triangle to the right will become a square -- click it to stop the loop or click INTERRUPT where the Run All key is.\n",
    "\n",
    "x = 5 # <-- x is defined at the beginning of the file, but it appears that keeping the declaration and assignment of the varaible in the same code cell...\n",
    "# ...that its used in makes it function more consistently. Otherwise, it might fail.\n",
    "while x < 8: \n",
    "    print(\"Input\", x)\n",
    "    x = x + 0.5\n",
    "    print(\"Output\", x)\n",
    "    print(\"---------\")\n",
    "print(\"While loop completed\")"
   ]
  },
  {
   "attachments": {},
   "cell_type": "markdown",
   "metadata": {},
   "source": [
    "### If-Else"
   ]
  },
  {
   "cell_type": "code",
   "execution_count": 36,
   "metadata": {},
   "outputs": [
    {
     "name": "stdout",
     "output_type": "stream",
     "text": [
      "p is lesser than q\n"
     ]
    }
   ],
   "source": [
    "# If-Else is composed of stepped conditions. The first condition is evaluated, if false, the next is evaluated, etc. The first true statement is executed. \n",
    "\n",
    "p = 3\n",
    "q = 5\n",
    "\n",
    "if p == q:                       # Beginning of if-else loops -> if (condition 1): then do x. If condition 1 isn't met, read the next condition.\n",
    "    print(\"p equals q\")\n",
    "elif p > q:                      # elif stands for else if -> if (condition 2): then do y. If condition 2 isn't met, read the next condition.\n",
    "    print(\"p is greater than q\")\n",
    "else:                            # else -> if no conditions were met, then do z. Since p can only be equal, greater, or lesser than q, it's okay to leave this undefined\n",
    "    print(\"p is lesser than q\")"
   ]
  },
  {
   "attachments": {},
   "cell_type": "markdown",
   "metadata": {},
   "source": [
    "### Try-Except"
   ]
  },
  {
   "cell_type": "code",
   "execution_count": 37,
   "metadata": {},
   "outputs": [
    {
     "name": "stdout",
     "output_type": "stream",
     "text": [
      "Can't divide by 0\n",
      "Because of the Try-Except, the rest of the code will run:\n",
      "15\n"
     ]
    }
   ],
   "source": [
    "# Try-Except will attempt to run some code, except if they encounter an unwanted, defined output, such as an error\n",
    "# They are most useful for preventing erros from stopping complex code from running by replacing the error with some other output, such as below:\n",
    "\n",
    "try:\n",
    "    2 / 0 # Since nothing can be divided by 0, an error would usually occur. Because of the except statement, the printed string is output instead.\n",
    "except ZeroDivisionError:\n",
    "    print(\"Can't divide by 0\")\n",
    "\n",
    "print(\"Because of the Try-Except, the rest of the code will run:\")\n",
    "\n",
    "some_numbers = 3 + 5 + 7 \n",
    "print(some_numbers)      # Because of the try-except, the code was uninterrupted by an erorr and the addition was performed."
   ]
  },
  {
   "attachments": {},
   "cell_type": "markdown",
   "metadata": {},
   "source": [
    "### With Statement"
   ]
  },
  {
   "cell_type": "code",
   "execution_count": 38,
   "metadata": {},
   "outputs": [
    {
     "name": "stdout",
     "output_type": "stream",
     "text": [
      "Since the file doesn't exist, try-except prevents the error message from the with statement\n"
     ]
    }
   ],
   "source": [
    "# A rather complex statement explained best here https://www.geeksforgeeks.org/with-statement-in-python/.\n",
    "# Most commonly use to ensure files are closed properly, even if errors or infinite loops occur.\n",
    "try:\n",
    "    with open('randomfile') as reader: # Since randomfile doesn't exist, this will return an error, but if it did, the with statement would read AND close it.\n",
    "        print(\"File has been read and closed\")\n",
    "except FileNotFoundError:\n",
    "    print(\"Since the file doesn't exist, try-except prevents the error message from the with statement\")   "
   ]
  }
 ],
 "metadata": {
  "kernelspec": {
   "display_name": "primedesk_dal",
   "language": "python",
   "name": "python3"
  },
  "language_info": {
   "codemirror_mode": {
    "name": "ipython",
    "version": 3
   },
   "file_extension": ".py",
   "mimetype": "text/x-python",
   "name": "python",
   "nbconvert_exporter": "python",
   "pygments_lexer": "ipython3",
   "version": "3.10.9"
  },
  "orig_nbformat": 4,
  "vscode": {
   "interpreter": {
    "hash": "35d5f87d2f96cfd650c14e393ee92788d0041f123843fa1cc6bb1e15709e3aa7"
   }
  }
 },
 "nbformat": 4,
 "nbformat_minor": 2
}
